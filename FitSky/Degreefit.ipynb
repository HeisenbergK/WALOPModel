{
 "cells": [
  {
   "cell_type": "code",
   "execution_count": 16,
   "metadata": {
    "ExecuteTime": {
     "end_time": "2018-09-24T11:08:55.099000Z",
     "start_time": "2018-09-24T11:08:55.087000Z"
    }
   },
   "outputs": [
    {
     "data": {
      "text/html": [
       "<script>requirejs.config({paths: { 'plotly': ['https://cdn.plot.ly/plotly-latest.min']},});if(!window.Plotly) {{require(['plotly'],function(plotly) {window.Plotly=plotly;});}}</script>"
      ],
      "text/vnd.plotly.v1+html": [
       "<script>requirejs.config({paths: { 'plotly': ['https://cdn.plot.ly/plotly-latest.min']},});if(!window.Plotly) {{require(['plotly'],function(plotly) {window.Plotly=plotly;});}}</script>"
      ]
     },
     "metadata": {},
     "output_type": "display_data"
    }
   ],
   "source": [
    "import plotly.graph_objs as go\n",
    "from plotly import __version__\n",
    "from plotly.offline import download_plotlyjs, init_notebook_mode, plot, iplot\n",
    "init_notebook_mode(connected=True)\n",
    "from numpy import divide"
   ]
  },
  {
   "cell_type": "code",
   "execution_count": 17,
   "metadata": {
    "ExecuteTime": {
     "end_time": "2018-09-24T11:08:55.114000Z",
     "start_time": "2018-09-24T11:08:55.105000Z"
    }
   },
   "outputs": [],
   "source": [
    "deg = [1, 2, 3, 4, 5, 6,7]\n",
    "fr = [79857., 3613.3, 3613.2, 66.5, 35487.4, 72258.7,534366.1]\n",
    "fm = [79857.4, 3632.4, 3631.9, 377.57, 35489.1, 78259.6,534366.0]\n",
    "rm = [371.9, 372.2, 371.8, 371.8, 372.2, 372.2,372.2]\n",
    "probe = 1.0e+6\n",
    "fr = divide(fr, probe)\n",
    "fm = divide(fm, probe)\n",
    "rm = divide(rm, probe)"
   ]
  },
  {
   "cell_type": "code",
   "execution_count": 18,
   "metadata": {
    "ExecuteTime": {
     "end_time": "2018-09-24T11:08:55.138000Z",
     "start_time": "2018-09-24T11:08:55.121000Z"
    }
   },
   "outputs": [
    {
     "data": {
      "application/vnd.plotly.v1+json": {
       "data": [
        {
         "name": "fit-real",
         "type": "scatter",
         "x": [
          1,
          2,
          3,
          4,
          5,
          6,
          7
         ],
         "y": [
          0.079857,
          0.0036133000000000003,
          0.0036132,
          6.65e-05,
          0.0354874,
          0.0722587,
          0.5343661
         ]
        },
        {
         "name": "fit-median",
         "type": "scatter",
         "x": [
          1,
          2,
          3,
          4,
          5,
          6,
          7
         ],
         "y": [
          0.0798574,
          0.0036324,
          0.0036319,
          0.00037757,
          0.035489099999999996,
          0.07825960000000001,
          0.534366
         ]
        },
        {
         "name": "median-real",
         "type": "scatter",
         "x": [
          1,
          2,
          3,
          4,
          5,
          6,
          7
         ],
         "y": [
          0.0003719,
          0.0003722,
          0.00037180000000000004,
          0.00037180000000000004,
          0.0003722,
          0.0003722,
          0.0003722
         ]
        }
       ],
       "layout": {
        "title": "Fit Deviation",
        "xaxis": {
         "title": "XY Polynomial degree"
        },
        "yaxis": {
         "title": "STD/max",
         "type": "log"
        }
       }
      },
      "text/html": [
       "<div id=\"6b517a7d-a1f6-4364-aec3-453690547cc0\" style=\"height: 525px; width: 100%;\" class=\"plotly-graph-div\"></div><script type=\"text/javascript\">require([\"plotly\"], function(Plotly) { window.PLOTLYENV=window.PLOTLYENV || {};window.PLOTLYENV.BASE_URL=\"https://plot.ly\";Plotly.newPlot(\"6b517a7d-a1f6-4364-aec3-453690547cc0\", [{\"y\": [0.079857, 0.0036133000000000003, 0.0036132, 6.65e-05, 0.0354874, 0.0722587, 0.5343661], \"x\": [1, 2, 3, 4, 5, 6, 7], \"type\": \"scatter\", \"name\": \"fit-real\"}, {\"y\": [0.0798574, 0.0036324, 0.0036319, 0.00037757, 0.035489099999999996, 0.07825960000000001, 0.534366], \"x\": [1, 2, 3, 4, 5, 6, 7], \"type\": \"scatter\", \"name\": \"fit-median\"}, {\"y\": [0.0003719, 0.0003722, 0.00037180000000000004, 0.00037180000000000004, 0.0003722, 0.0003722, 0.0003722], \"x\": [1, 2, 3, 4, 5, 6, 7], \"type\": \"scatter\", \"name\": \"median-real\"}], {\"title\": \"Fit Deviation\", \"xaxis\": {\"title\": \"XY Polynomial degree\"}, \"yaxis\": {\"type\": \"log\", \"title\": \"STD/max\"}}, {\"linkText\": \"Export to plot.ly\", \"showLink\": true})});</script>"
      ],
      "text/vnd.plotly.v1+html": [
       "<div id=\"6b517a7d-a1f6-4364-aec3-453690547cc0\" style=\"height: 525px; width: 100%;\" class=\"plotly-graph-div\"></div><script type=\"text/javascript\">require([\"plotly\"], function(Plotly) { window.PLOTLYENV=window.PLOTLYENV || {};window.PLOTLYENV.BASE_URL=\"https://plot.ly\";Plotly.newPlot(\"6b517a7d-a1f6-4364-aec3-453690547cc0\", [{\"y\": [0.079857, 0.0036133000000000003, 0.0036132, 6.65e-05, 0.0354874, 0.0722587, 0.5343661], \"x\": [1, 2, 3, 4, 5, 6, 7], \"type\": \"scatter\", \"name\": \"fit-real\"}, {\"y\": [0.0798574, 0.0036324, 0.0036319, 0.00037757, 0.035489099999999996, 0.07825960000000001, 0.534366], \"x\": [1, 2, 3, 4, 5, 6, 7], \"type\": \"scatter\", \"name\": \"fit-median\"}, {\"y\": [0.0003719, 0.0003722, 0.00037180000000000004, 0.00037180000000000004, 0.0003722, 0.0003722, 0.0003722], \"x\": [1, 2, 3, 4, 5, 6, 7], \"type\": \"scatter\", \"name\": \"median-real\"}], {\"title\": \"Fit Deviation\", \"xaxis\": {\"title\": \"XY Polynomial degree\"}, \"yaxis\": {\"type\": \"log\", \"title\": \"STD/max\"}}, {\"linkText\": \"Export to plot.ly\", \"showLink\": true})});</script>"
      ]
     },
     "metadata": {},
     "output_type": "display_data"
    }
   ],
   "source": [
    "frp = go.Scatter(x=deg, y=fr, name='fit-real')\n",
    "fmp = go.Scatter(x=deg, y=fm, name='fit-median')\n",
    "rmp = go.Scatter(x=deg, y=rm, name='median-real')\n",
    "data = [frp, fmp, rmp]\n",
    "layout = dict(title='Fit Deviation', xaxis=dict(\n",
    "    title='XY Polynomial degree'), yaxis=dict(title='STD/max', type='log'))\n",
    "fig = dict(data=data, layout=layout)\n",
    "iplot(fig)"
   ]
  },
  {
   "cell_type": "code",
   "execution_count": null,
   "metadata": {},
   "outputs": [],
   "source": []
  }
 ],
 "metadata": {
  "kernelspec": {
   "display_name": "Python 2",
   "language": "python",
   "name": "python2"
  },
  "language_info": {
   "codemirror_mode": {
    "name": "ipython",
    "version": 2
   },
   "file_extension": ".py",
   "mimetype": "text/x-python",
   "name": "python",
   "nbconvert_exporter": "python",
   "pygments_lexer": "ipython2",
   "version": "2.7.14"
  },
  "varInspector": {
   "cols": {
    "lenName": 16,
    "lenType": 16,
    "lenVar": 40
   },
   "kernels_config": {
    "python": {
     "delete_cmd_postfix": "",
     "delete_cmd_prefix": "del ",
     "library": "var_list.py",
     "varRefreshCmd": "print(var_dic_list())"
    },
    "r": {
     "delete_cmd_postfix": ") ",
     "delete_cmd_prefix": "rm(",
     "library": "var_list.r",
     "varRefreshCmd": "cat(var_dic_list()) "
    }
   },
   "types_to_exclude": [
    "module",
    "function",
    "builtin_function_or_method",
    "instance",
    "_Feature"
   ],
   "window_display": false
  }
 },
 "nbformat": 4,
 "nbformat_minor": 2
}
