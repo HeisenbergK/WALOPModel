{
 "cells": [
  {
   "cell_type": "code",
   "execution_count": 3,
   "metadata": {
    "ExecuteTime": {
     "end_time": "2018-09-25T08:53:25.359000Z",
     "start_time": "2018-09-25T08:53:25.347000Z"
    }
   },
   "outputs": [
    {
     "data": {
      "text/html": [
       "<script>requirejs.config({paths: { 'plotly': ['https://cdn.plot.ly/plotly-latest.min']},});if(!window.Plotly) {{require(['plotly'],function(plotly) {window.Plotly=plotly;});}}</script>"
      ],
      "text/vnd.plotly.v1+html": [
       "<script>requirejs.config({paths: { 'plotly': ['https://cdn.plot.ly/plotly-latest.min']},});if(!window.Plotly) {{require(['plotly'],function(plotly) {window.Plotly=plotly;});}}</script>"
      ]
     },
     "metadata": {},
     "output_type": "display_data"
    }
   ],
   "source": [
    "import plotly.graph_objs as go\n",
    "from plotly import __version__\n",
    "from plotly.offline import download_plotlyjs, init_notebook_mode, plot, iplot\n",
    "init_notebook_mode(connected=True)\n",
    "from numpy import divide"
   ]
  },
  {
   "cell_type": "code",
   "execution_count": 4,
   "metadata": {
    "ExecuteTime": {
     "end_time": "2018-09-25T08:53:25.379000Z",
     "start_time": "2018-09-25T08:53:25.364000Z"
    }
   },
   "outputs": [],
   "source": [
    "deg = [1, 2, 3, 4, 5, 6,7]\n",
    "fr = [79857., 3613.3, 3613.2, 66.5, 35487.4, 72258.7,534366.1]\n",
    "fm = [79857.4, 3632.4, 3631.9, 377.57, 35489.1, 78259.6,534366.0]\n",
    "rm = [371.9, 372.2, 371.8, 371.8, 372.2, 372.2,372.2]\n",
    "probe = 1.0e+6\n",
    "fr = divide(fr, probe)\n",
    "fm = divide(fm, probe)\n",
    "rm = divide(rm, probe)"
   ]
  },
  {
   "cell_type": "code",
   "execution_count": 5,
   "metadata": {
    "ExecuteTime": {
     "end_time": "2018-09-25T08:53:25.583000Z",
     "start_time": "2018-09-25T08:53:25.386000Z"
    }
   },
   "outputs": [
    {
     "data": {
      "text/plain": [
       "'file://D:\\\\OneDrive\\\\Documents\\\\Workspace\\\\WALOP Model\\\\FitSky\\\\deviation.html'"
      ]
     },
     "execution_count": 5,
     "metadata": {},
     "output_type": "execute_result"
    }
   ],
   "source": [
    "frp = go.Scatter(x=deg, y=fr, name='fit-real')\n",
    "fmp = go.Scatter(x=deg, y=fm, name='fit-median')\n",
    "rmp = go.Scatter(x=deg, y=rm, name='median-real')\n",
    "data = [frp, fmp, rmp]\n",
    "layout = dict(title='Fit Deviation', xaxis=dict(\n",
    "    title='XY Polynomial degree'), yaxis=dict(title='STD/max', type='log'))\n",
    "fig = dict(data=data, layout=layout)\n",
    "plot(fig, filename='deviation.html')"
   ]
  },
  {
   "cell_type": "code",
   "execution_count": null,
   "metadata": {},
   "outputs": [],
   "source": []
  }
 ],
 "metadata": {
  "kernelspec": {
   "display_name": "Python 2",
   "language": "python",
   "name": "python2"
  },
  "language_info": {
   "codemirror_mode": {
    "name": "ipython",
    "version": 2
   },
   "file_extension": ".py",
   "mimetype": "text/x-python",
   "name": "python",
   "nbconvert_exporter": "python",
   "pygments_lexer": "ipython2",
   "version": "2.7.14"
  },
  "varInspector": {
   "cols": {
    "lenName": 16,
    "lenType": 16,
    "lenVar": 40
   },
   "kernels_config": {
    "python": {
     "delete_cmd_postfix": "",
     "delete_cmd_prefix": "del ",
     "library": "var_list.py",
     "varRefreshCmd": "print(var_dic_list())"
    },
    "r": {
     "delete_cmd_postfix": ") ",
     "delete_cmd_prefix": "rm(",
     "library": "var_list.r",
     "varRefreshCmd": "cat(var_dic_list()) "
    }
   },
   "types_to_exclude": [
    "module",
    "function",
    "builtin_function_or_method",
    "instance",
    "_Feature"
   ],
   "window_display": false
  }
 },
 "nbformat": 4,
 "nbformat_minor": 2
}
