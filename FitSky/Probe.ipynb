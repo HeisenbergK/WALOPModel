{
 "cells": [
  {
   "cell_type": "code",
   "execution_count": 171,
   "metadata": {
    "ExecuteTime": {
     "end_time": "2018-09-24T11:04:20.484000Z",
     "start_time": "2018-09-24T11:04:20.475000Z"
    }
   },
   "outputs": [],
   "source": [
    "import nbimporter\n",
    "from numpy.random import laplace, poisson, normal\n",
    "from numpy import linspace, meshgrid, subtract, exp, divide, add, amax, sqrt, median, std, array\n",
    "from numpy.linalg import lstsq\n",
    "from model_calls import showim"
   ]
  },
  {
   "cell_type": "code",
   "execution_count": 172,
   "metadata": {
    "ExecuteTime": {
     "end_time": "2018-09-24T11:04:20.495000Z",
     "start_time": "2018-09-24T11:04:20.490000Z"
    }
   },
   "outputs": [],
   "source": [
    "resol = 1024.0\n",
    "vignt = 3.0\n",
    "probe = 1.0e+6\n",
    "multis = 10"
   ]
  },
  {
   "cell_type": "code",
   "execution_count": 173,
   "metadata": {
    "ExecuteTime": {
     "end_time": "2018-09-24T11:04:20.516000Z",
     "start_time": "2018-09-24T11:04:20.501000Z"
    }
   },
   "outputs": [],
   "source": [
    "x, y = meshgrid(linspace(0, resol-1, int(resol)),\n",
    "                linspace(0, resol-1, int(resol)))"
   ]
  },
  {
   "cell_type": "code",
   "execution_count": 174,
   "metadata": {
    "ExecuteTime": {
     "end_time": "2018-09-24T11:04:20.639000Z",
     "start_time": "2018-09-24T11:04:20.520000Z"
    }
   },
   "outputs": [],
   "source": [
    "kernel = subtract(1.0, exp(divide(x, -resol/vignt))) + subtract(1.0, exp(divide(y, -resol/vignt))) + \\\n",
    "    subtract(1.0, exp(divide(x-resol, resol/vignt))) + \\\n",
    "    subtract(1.0, exp(divide(y-resol, resol/vignt)))\n",
    "kernel /= amax(kernel)\n",
    "kernel *= probe\n",
    "showim(image=kernel, fname='kernel')"
   ]
  },
  {
   "cell_type": "code",
   "execution_count": 175,
   "metadata": {
    "ExecuteTime": {
     "end_time": "2018-09-24T11:04:21.013000Z",
     "start_time": "2018-09-24T11:04:20.645000Z"
    }
   },
   "outputs": [],
   "source": [
    "kernels = []\n",
    "for i in range(0, multis):\n",
    "    noise = normal(loc=0, scale=sqrt(probe), size=(int(resol), int(resol)))\n",
    "    kernels.append(kernel+noise)"
   ]
  },
  {
   "cell_type": "code",
   "execution_count": 176,
   "metadata": {
    "ExecuteTime": {
     "end_time": "2018-09-24T11:04:21.299000Z",
     "start_time": "2018-09-24T11:04:21.018000Z"
    }
   },
   "outputs": [],
   "source": [
    "kernelmed = median(kernels, axis=0)\n",
    "showim(image=kernelmed, fname='kernelmed')"
   ]
  },
  {
   "cell_type": "code",
   "execution_count": 177,
   "metadata": {
    "ExecuteTime": {
     "end_time": "2018-09-24T11:04:21.347000Z",
     "start_time": "2018-09-24T11:04:21.305000Z"
    }
   },
   "outputs": [
    {
     "name": "stdout",
     "output_type": "stream",
     "text": [
      "0.0899253304815 372.224972619\n"
     ]
    }
   ],
   "source": [
    "print median(kernelmed-kernel), std(kernelmed-kernel)"
   ]
  },
  {
   "cell_type": "code",
   "execution_count": null,
   "metadata": {
    "ExecuteTime": {
     "end_time": "2018-09-24T11:04:25.474000Z",
     "start_time": "2018-09-24T11:04:21.353000Z"
    }
   },
   "outputs": [],
   "source": [
    "u = x.flatten()\n",
    "v = y.flatten()\n",
    "zerdeg = [u*0+1]\n",
    "onedeg = [u, v]\n",
    "twodeg = [u**2, v**2, u*v]\n",
    "thrdeg = [u**3, v**3, u**2*v, u*v**2]\n",
    "foudeg = [u**4, v**4, u**3*v, u*v**3, u**2*v**2]\n",
    "fivdeg = [u**5, v**5, u**4*v, u*v**4, u**3*v**2, u**2*v**3]\n",
    "sixdeg = [u**6, v**6, u**5*v, u*v**5, u**4*v**2, u**2*v**4, u**3*v**3]\n",
    "sevdeg = [u**7, v**7, u**6*v, u*v**6, u**5*v**2, u**2*v**5, u**4*v**3, u**3*v**4]\n",
    "combin = zerdeg+onedeg+twodeg+thrdeg+foudeg+fivdeg+sixdeg+sevdeg\n",
    "A = array(combin).T\n",
    "B = kernelmed.flatten()\n",
    "coeff, r, rank, s = lstsq(A,B, rcond=-1)"
   ]
  },
  {
   "cell_type": "code",
   "execution_count": null,
   "metadata": {
    "ExecuteTime": {
     "end_time": "2018-09-24T11:04:25.474000Z",
     "start_time": "2018-09-24T11:04:21.353000Z"
    }
   },
   "outputs": [],
   "source": [
    "zerpol = [(x*0+coeff[0])]\n",
    "onepol = [x*coeff[1], y*coeff[2]]\n",
    "twopol = [(x**2)*coeff[3], (y**2)*coeff[4], (x*y)*coeff[5]]\n",
    "thrpol = [(x**3)*coeff[6], (y**3)*coeff[7], ((x**2)*y)*coeff[8], (x*(y**2))*coeff[9]]\n",
    "foxpol = [(x**4)*coeff[10], (y**4)*coeff[11], ((x**3)*y)*coeff[12], (x*(y**3))*coeff[13], ((x**2)*(y**2))*coeff[14]]\n",
    "fiypol = [(x**5)*coeff[15], (y**5)*coeff[16], ((x**4)*y)*coeff[17], (x*(y**4))*coeff[18], ((x**3)*(y**2))*coeff[19], ((x**2)*(y**3))*coeff[20]]\n",
    "sixpol = [(x**6)*coeff[21], (y**6)*coeff[22], ((x**5)*y)*coeff[23], (x*(y**5))*coeff[24], ((x**4)*(y**2))*coeff[25], ((x**2)*(y**4))*coeff[26], ((x**3)*(y**3))*coeff[27]]\n",
    "sevpol = [(x**7)*coeff[28], (y**7)*coeff[29], ((x**6)*y)*coeff[30], (x*(y**6))*coeff[31], ((x**5)*(y**2))*coeff[32], ((x**2)*(y**5))*coeff[33], ((x**4)*(y**3))*coeff[34], ((x**3)*(y**4))*coeff[35]]\n",
    "kernelpol = zerpol+onepol+twopol+thrpol+foxpol+fiypol+sixpol+sevpol\n",
    "kernelfit = sum(kernelpol)\n",
    "showim(image=kernelfit, fname='kernelfit')"
   ]
  },
  {
   "cell_type": "code",
   "execution_count": 178,
   "metadata": {
    "ExecuteTime": {
     "end_time": "2018-09-24T11:04:25.474000Z",
     "start_time": "2018-09-24T11:04:21.353000Z"
    }
   },
   "outputs": [],
   "source": [
    "print median(kernelfit-kernel), std(kernelfit-kernel)\n",
    "print median(kernelmed-kernelfit), std(kernelmed-kernelfit)"
   ]
  },
  {
   "cell_type": "code",
   "execution_count": null,
   "metadata": {},
   "outputs": [],
   "source": []
  }
 ],
 "metadata": {
  "kernelspec": {
   "display_name": "Python 2",
   "language": "python",
   "name": "python2"
  },
  "language_info": {
   "codemirror_mode": {
    "name": "ipython",
    "version": 2
   },
   "file_extension": ".py",
   "mimetype": "text/x-python",
   "name": "python",
   "nbconvert_exporter": "python",
   "pygments_lexer": "ipython2",
   "version": "2.7.14"
  },
  "varInspector": {
   "cols": {
    "lenName": 16,
    "lenType": 16,
    "lenVar": 40
   },
   "kernels_config": {
    "python": {
     "delete_cmd_postfix": "",
     "delete_cmd_prefix": "del ",
     "library": "var_list.py",
     "varRefreshCmd": "print(var_dic_list())"
    },
    "r": {
     "delete_cmd_postfix": ") ",
     "delete_cmd_prefix": "rm(",
     "library": "var_list.r",
     "varRefreshCmd": "cat(var_dic_list()) "
    }
   },
   "types_to_exclude": [
    "module",
    "function",
    "builtin_function_or_method",
    "instance",
    "_Feature"
   ],
   "window_display": false
  }
 },
 "nbformat": 4,
 "nbformat_minor": 2
}
