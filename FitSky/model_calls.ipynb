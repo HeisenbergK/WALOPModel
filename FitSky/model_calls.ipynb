{
 "cells": [
  {
   "cell_type": "code",
   "execution_count": 9,
   "metadata": {
    "ExecuteTime": {
     "end_time": "2018-08-27T22:41:26.991000Z",
     "start_time": "2018-08-27T22:41:26.984000Z"
    }
   },
   "outputs": [],
   "source": [
    "import numpy as np\n",
    "import sys"
   ]
  },
  {
   "cell_type": "code",
   "execution_count": 10,
   "metadata": {
    "ExecuteTime": {
     "end_time": "2018-08-27T22:41:27.006000Z",
     "start_time": "2018-08-27T22:41:26.996000Z"
    }
   },
   "outputs": [],
   "source": [
    "def gaussian_psf(x, y, sigma, xcen, ycen, samp):\n",
    "    amp = samp\n",
    "    d = np.sqrt(np.power(np.subtract(x, xcen), 2) +\n",
    "                np.power(np.subtract(y, ycen), 2))\n",
    "    g = np.exp(-(np.divide(np.power(d, 2.0), (2.0 * np.power(sigma, 2.0)))))\n",
    "    g = np.divide(g, np.sum(g))\n",
    "    g = np.multiply(amp, g)\n",
    "    return g"
   ]
  },
  {
   "cell_type": "code",
   "execution_count": 11,
   "metadata": {
    "ExecuteTime": {
     "end_time": "2018-08-27T22:41:27.029000Z",
     "start_time": "2018-08-27T22:41:27.012000Z"
    }
   },
   "outputs": [],
   "source": [
    "# take the star's and sky's photon flux and brightness respectively and return the star's intensity and the sky's flux\n",
    "def bright(insky, instar, dtel, field, resol, texp):\n",
    "    # insky: sky brightness in ph/s/cm^2/arcsec^2\n",
    "    # instar: star flux in ph/s/cm^2\n",
    "    # dtel: telescope diameter in cm\n",
    "    # field: field of view in deg\n",
    "    pixn = np.power(resol, 2.0)               # total pixels\n",
    "    fov = field*60.0*60.0                     # field of view in arcsec\n",
    "    telarea = np.pi*0.25*np.power(dtel, 2.0)  # telescope effective area\n",
    "    # apparent sky flux in ph/px^2\n",
    "    fB = insky*telarea*np.power(fov, 2.0)*np.power(pixn, -1.0)*texp\n",
    "    # apparent star intensity in ph\n",
    "    fS = instar*telarea*texp\n",
    "    return fB, fS"
   ]
  },
  {
   "cell_type": "code",
   "execution_count": 12,
   "metadata": {
    "ExecuteTime": {
     "end_time": "2018-08-27T22:41:27.078000Z",
     "start_time": "2018-08-27T22:41:27.037000Z"
    }
   },
   "outputs": [],
   "source": [
    "# create the star positions\n",
    "def mkfields(fields, field):\n",
    "    # if the fields variable is a string saying 'set' then the fields produced are a homogeneous sampling of the image\n",
    "    if fields == 'set':\n",
    "        posx = [(0.7*field), (0.3*field), (0.3*field), (0.7*field), (0.1*field), (0.1*field),\n",
    "                (0.1*field), (0.5*field), (0.5*field), (0.5*field), (0.9*field), (0.9*field), (0.9*field)]\n",
    "        posy = [(0.7*field), (0.7*field), (0.3*field), (0.3*field), (0.1*field), (0.5*field),\n",
    "                (0.9*field), (0.1*field), (0.5*field), (0.9*field), (0.1*field), (0.5*field), (0.9*field)]\n",
    "    # else, the fields are at random x,y positions\n",
    "    elif isinstance(fields, int):\n",
    "        fields = int(fields)\n",
    "        posx = []\n",
    "        posy = []\n",
    "        for i in range(0, fields):\n",
    "            maker = np.random.rand(1, 2)\n",
    "            maker = maker[0]\n",
    "            curx = maker[0]\n",
    "            cury = maker[1]\n",
    "            curx *= field\n",
    "            cury *= field\n",
    "            posx.append(curx)\n",
    "            posy.append(cury)\n",
    "    else:\n",
    "        print('Wrong \"fields\" variable')\n",
    "        sys.exit(1)\n",
    "    return posx, posy"
   ]
  },
  {
   "cell_type": "code",
   "execution_count": 1,
   "metadata": {
    "ExecuteTime": {
     "end_time": "2018-09-16T13:19:15.581000Z",
     "start_time": "2018-09-16T13:19:15.565000Z"
    }
   },
   "outputs": [],
   "source": [
    "# show an image in plotly\n",
    "def showim(image, fname='test'):\n",
    "    import plotly.graph_objs as go\n",
    "    from plotly import __version__\n",
    "    from plotly.offline import download_plotlyjs, init_notebook_mode, plot, iplot\n",
    "    init_notebook_mode(connected=True)\n",
    "    tickval = round(((len(image)+len(image))/2)/100)*10\n",
    "    data = [go.Heatmap(z=image, x0=0, y0=0, dx=1, dy=1, colorscale='Greys')]\n",
    "    layout = go.Layout(height=600, width=600, xaxis=dict(autotick=False, ticks='outside', tick0=0, dtick=tickval), yaxis=dict(\n",
    "        autotick=False, ticks='outside', tick0=0, dtick=tickval, scaleanchor='x'))\n",
    "    fig = go.Figure(data=data, layout=layout)\n",
    "    plot(fig, filename=(fname+'.html'))"
   ]
  },
  {
   "cell_type": "code",
   "execution_count": 14,
   "metadata": {
    "ExecuteTime": {
     "end_time": "2018-08-27T22:41:27.126000Z",
     "start_time": "2018-08-27T22:41:27.116000Z"
    }
   },
   "outputs": [],
   "source": [
    "def mkbias(nllvl, maxc, resol):\n",
    "    lam = (nllvl/100.0)*maxc\n",
    "    return np.random.poisson(lam=lam, size=(resol, resol))  # bias frame in ADU"
   ]
  },
  {
   "cell_type": "code",
   "execution_count": 15,
   "metadata": {
    "ExecuteTime": {
     "end_time": "2018-08-27T22:41:27.147000Z",
     "start_time": "2018-08-27T22:41:27.134000Z"
    }
   },
   "outputs": [],
   "source": [
    "def mkdark(darkl, texpo, resol):\n",
    "    texpo /= 3600\n",
    "    lam = darkl*texpo\n",
    "    # dark frame in electrons\n",
    "    return np.random.poisson(lam=lam, size=(resol, resol))"
   ]
  },
  {
   "cell_type": "code",
   "execution_count": 1,
   "metadata": {
    "ExecuteTime": {
     "end_time": "2018-09-11T14:11:17.968000Z",
     "start_time": "2018-09-11T14:11:17.960000Z"
    }
   },
   "outputs": [],
   "source": [
    "def mkrdns(rdns, resol):\n",
    "    lam = np.power(rdns, 2.0)\n",
    "    # readnoise frame in electrons\n",
    "    return np.subtract(np.random.poisson(lam=lam, size=(resol, resol)), lam)"
   ]
  },
  {
   "cell_type": "code",
   "execution_count": null,
   "metadata": {},
   "outputs": [],
   "source": []
  }
 ],
 "metadata": {
  "kernelspec": {
   "display_name": "Python 2",
   "language": "python",
   "name": "python2"
  },
  "language_info": {
   "codemirror_mode": {
    "name": "ipython",
    "version": 2
   },
   "file_extension": ".py",
   "mimetype": "text/x-python",
   "name": "python",
   "nbconvert_exporter": "python",
   "pygments_lexer": "ipython2",
   "version": "2.7.14"
  },
  "varInspector": {
   "cols": {
    "lenName": 16,
    "lenType": 16,
    "lenVar": 40
   },
   "kernels_config": {
    "python": {
     "delete_cmd_postfix": "",
     "delete_cmd_prefix": "del ",
     "library": "var_list.py",
     "varRefreshCmd": "print(var_dic_list())"
    },
    "r": {
     "delete_cmd_postfix": ") ",
     "delete_cmd_prefix": "rm(",
     "library": "var_list.r",
     "varRefreshCmd": "cat(var_dic_list()) "
    }
   },
   "types_to_exclude": [
    "module",
    "function",
    "builtin_function_or_method",
    "instance",
    "_Feature"
   ],
   "window_display": false
  }
 },
 "nbformat": 4,
 "nbformat_minor": 2
}
