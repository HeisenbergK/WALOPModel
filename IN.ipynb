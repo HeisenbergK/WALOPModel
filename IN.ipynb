{
 "cells": [
  {
   "cell_type": "code",
   "execution_count": 9,
   "metadata": {
    "ExecuteTime": {
     "end_time": "2018-09-14T09:04:50.301000Z",
     "start_time": "2018-09-14T09:04:50.292000Z"
    }
   },
   "outputs": [],
   "source": [
    "import nbimporter\n",
    "import numpy as np\n",
    "from model_calls import gaussian_psf, bright, mkfields\n",
    "from astropy.io import fits\n",
    "from struct import pack\n",
    "from tqdm import tqdm_notebook, tnrange"
   ]
  },
  {
   "cell_type": "code",
   "execution_count": 10,
   "metadata": {
    "ExecuteTime": {
     "end_time": "2018-09-14T09:04:50.314000Z",
     "start_time": "2018-09-14T09:04:50.307000Z"
    }
   },
   "outputs": [],
   "source": [
    "field = 35.0/60.0     # field size in deg\n",
    "resol = 4.0*1024      # resolution of CCD\n",
    "fwhm = 1.5            # seeing fwhm in arcsec\n",
    "fields = 'set'        # 'set' to take my fields, number to use that many random fields\n",
    "resol = int(resol)    # integer pixels\n",
    "fwhm /= (60.0*60.0)   # seeing fwhm in deg\n",
    "sigma = fwhm/2.35482  # seeing std in deg\n",
    "filtername = 'sdss-r'    # prefix for the creation of files\n",
    "texp = 5.0*60.0       # exposure time in s\n",
    "dtel = 100.0          # telescope diameter in cm"
   ]
  },
  {
   "cell_type": "code",
   "execution_count": 11,
   "metadata": {
    "ExecuteTime": {
     "end_time": "2018-09-14T09:04:50.327000Z",
     "start_time": "2018-09-14T09:04:50.320000Z"
    }
   },
   "outputs": [],
   "source": [
    "prefix = filtername\n",
    "if filtername == 'J-R':\n",
    "    sfl = 0.278            # star flux in ph/s/cm^2\n",
    "    sbr = 0.00779          # sky brightness in ph/s/cm^2/arcsec^2\n",
    "elif filtername == 'sdss-r':\n",
    "    sfl = 0.225            # star flux in ph/s/cm^2\n",
    "    sbr = 0.00560          # sky brightness in ph/s/cm^2/arcsec^2\n",
    "elif filtername == 'sdss-r_skin':\n",
    "    sfl = 0.210            # star flux in ph/s/cm^2\n",
    "    sbr = 0.00514          # sky brightness in ph/s/cm^2/arcsec^2"
   ]
  },
  {
   "cell_type": "code",
   "execution_count": 12,
   "metadata": {
    "ExecuteTime": {
     "end_time": "2018-09-14T09:04:50.339000Z",
     "start_time": "2018-09-14T09:04:50.332000Z"
    }
   },
   "outputs": [],
   "source": [
    "if isinstance(fields, str):\n",
    "    imstd = \"INS\\\\\"+prefix+'_' + \\\n",
    "        str(resol)+'px_'+str(int(field*60))+\"'_set_positions\"\n",
    "else:\n",
    "    imstd = \"INS\\\\\"+prefix+'_' + \\\n",
    "        str(resol)+'px_'+str(int(field*60))+\"'_\"+str(fields)+'stars'"
   ]
  },
  {
   "cell_type": "code",
   "execution_count": 13,
   "metadata": {
    "ExecuteTime": {
     "end_time": "2018-09-14T09:04:50.348000Z",
     "start_time": "2018-09-14T09:04:50.342000Z"
    }
   },
   "outputs": [],
   "source": [
    "sbright, samp = bright(dtel=dtel, field=field, insky=sbr, instar=sfl,\n",
    "                       resol=resol, texp=texp)  # sky and star values in ph/px^2 and ph"
   ]
  },
  {
   "cell_type": "code",
   "execution_count": 14,
   "metadata": {
    "ExecuteTime": {
     "end_time": "2018-09-14T09:04:50.363000Z",
     "start_time": "2018-09-14T09:04:50.355000Z"
    }
   },
   "outputs": [],
   "source": [
    "posx, posy = mkfields(fields, field)  # x and y positions of the stars in deg"
   ]
  },
  {
   "cell_type": "code",
   "execution_count": 15,
   "metadata": {
    "ExecuteTime": {
     "end_time": "2018-09-14T09:04:50.489000Z",
     "start_time": "2018-09-14T09:04:50.368000Z"
    }
   },
   "outputs": [],
   "source": [
    "# the x,y coordinate system in resol bins but each x,y are measured in deg\n",
    "x, y = np.meshgrid(np.linspace(0, field, resol), np.linspace(0, field, resol))"
   ]
  },
  {
   "cell_type": "code",
   "execution_count": 25,
   "metadata": {
    "ExecuteTime": {
     "end_time": "2018-09-14T09:13:28.141000Z",
     "start_time": "2018-09-14T09:12:31.946000Z"
    }
   },
   "outputs": [
    {
     "data": {
      "application/vnd.jupyter.widget-view+json": {
       "model_id": "f81f193d720d4e2898336302323b71fd",
       "version_major": 2,
       "version_minor": 0
      },
      "text/plain": [
       "HBox(children=(IntProgress(value=0, description=u'Creating stars', max=13), HTML(value=u'')))"
      ]
     },
     "metadata": {},
     "output_type": "display_data"
    }
   ],
   "source": [
    "shaper = x.shape                                           #\n",
    "clean = np.empty(shape=shaper)                             # an empty image\n",
    "#\n",
    "for i in tqdm_notebook(xrange(len(posx)), desc='Creating stars'):                              #\n",
    "    # x position of the star in degrees\n",
    "    xcen = posx[i]\n",
    "    # y position of the star in degrees\n",
    "    ycen = posy[i]\n",
    "    # a gaussian scaled to have total photons as the input star placed in the correct xy position\n",
    "    curg = gaussian_psf(x, y, sigma, xcen, ycen, samp)\n",
    "    # add the caussian to the clean image\n",
    "    clean = np.add(clean, curg)\n",
    "    #\n",
    "# add the the sky ph/px^2 to each pixel\n",
    "pure = np.add(sbright, clean)"
   ]
  },
  {
   "cell_type": "code",
   "execution_count": 17,
   "metadata": {
    "ExecuteTime": {
     "end_time": "2018-09-14T09:05:45.223000Z",
     "start_time": "2018-09-14T09:05:45.019000Z"
    }
   },
   "outputs": [
    {
     "name": "stdout",
     "output_type": "stream",
     "text": [
      "255\n"
     ]
    }
   ],
   "source": [
    "division = np.amax(pure)\n",
    "imapure = np.multiply(np.divide(pure, division), 255).astype(int)\n",
    "print np.amax(imapure)"
   ]
  },
  {
   "cell_type": "code",
   "execution_count": 18,
   "metadata": {
    "ExecuteTime": {
     "end_time": "2018-09-14T09:05:45.307000Z",
     "start_time": "2018-09-14T09:05:45.229000Z"
    }
   },
   "outputs": [
    {
     "name": "stdout",
     "output_type": "stream",
     "text": [
      "49974.1398288\n"
     ]
    }
   ],
   "source": [
    "division = 1.0\n",
    "bimpure = np.divide(pure, division)\n",
    "print np.amax(bimpure)"
   ]
  },
  {
   "cell_type": "code",
   "execution_count": 20,
   "metadata": {
    "ExecuteTime": {
     "end_time": "2018-09-14T09:06:11.269000Z",
     "start_time": "2018-09-14T09:06:10.023000Z"
    }
   },
   "outputs": [],
   "source": [
    "purehdu = fits.PrimaryHDU(pure)\n",
    "purehdu.writeto(imstd+\".fit\")"
   ]
  },
  {
   "cell_type": "code",
   "execution_count": 24,
   "metadata": {
    "ExecuteTime": {
     "end_time": "2018-09-14T09:12:21.198000Z",
     "start_time": "2018-09-14T09:12:11.674000Z"
    }
   },
   "outputs": [
    {
     "data": {
      "application/vnd.jupyter.widget-view+json": {
       "model_id": "f58f7b4eaac54feabbcd6aff7fb8000b",
       "version_major": 2,
       "version_minor": 0
      },
      "text/plain": [
       "HBox(children=(IntProgress(value=0, description=u'Writting IMA', max=4096), HTML(value=u'')))"
      ]
     },
     "metadata": {},
     "output_type": "display_data"
    }
   ],
   "source": [
    "f = open(imstd+\".ima\", 'w')\n",
    "f.write(pack(\"h\", 0))\n",
    "f.write(pack(\"h\", resol))\n",
    "f.write(pack(\"h\", 1))\n",
    "for i in tqdm_notebook(xrange(len(imapure)), desc='Writting IMA'):\n",
    "    for j in range(0, len(imapure[i])):\n",
    "        f.write(chr(imapure[i][j]))\n",
    "f.close()"
   ]
  },
  {
   "cell_type": "code",
   "execution_count": 23,
   "metadata": {
    "ExecuteTime": {
     "end_time": "2018-09-14T09:12:09.069000Z",
     "start_time": "2018-09-14T09:11:58.709000Z"
    }
   },
   "outputs": [
    {
     "data": {
      "application/vnd.jupyter.widget-view+json": {
       "model_id": "f4e07219555c43209fce89a3fee7e233",
       "version_major": 2,
       "version_minor": 0
      },
      "text/plain": [
       "HBox(children=(IntProgress(value=0, description=u'Writting BIM', max=4096), HTML(value=u'')))"
      ]
     },
     "metadata": {},
     "output_type": "display_data"
    }
   ],
   "source": [
    "f = open(imstd+\".bim\", 'w')\n",
    "f.write(pack(\"l\", resol))\n",
    "f.write(pack(\"l\", resol))\n",
    "for i in tqdm_notebook(xrange(len(bimpure)), desc='Writting BIM'):\n",
    "    for j in range(0, len(bimpure[i])):\n",
    "        f.write(pack(\"d\", bimpure[i][j]))\n",
    "f.close()"
   ]
  },
  {
   "cell_type": "code",
   "execution_count": null,
   "metadata": {
    "ExecuteTime": {
     "end_time": "2018-09-14T09:05:45.381000Z",
     "start_time": "2018-09-14T09:04:50.328Z"
    }
   },
   "outputs": [],
   "source": [
    "f = open(imstd+\".unit\", 'w')\n",
    "totint = np.sum(pure)\n",
    "maxint = np.amax(pure)\n",
    "f.write('Total Intensity (ph)\\tMaximum Intensity(ph)\\n')\n",
    "f.write(str(totint)+'\\t\\t\\t'+str(maxint))\n",
    "f.close()"
   ]
  },
  {
   "cell_type": "code",
   "execution_count": null,
   "metadata": {},
   "outputs": [],
   "source": []
  }
 ],
 "metadata": {
  "kernelspec": {
   "display_name": "Python 2",
   "language": "python",
   "name": "python2"
  },
  "language_info": {
   "codemirror_mode": {
    "name": "ipython",
    "version": 2
   },
   "file_extension": ".py",
   "mimetype": "text/x-python",
   "name": "python",
   "nbconvert_exporter": "python",
   "pygments_lexer": "ipython2",
   "version": "2.7.14"
  },
  "varInspector": {
   "cols": {
    "lenName": 16,
    "lenType": 16,
    "lenVar": 40
   },
   "kernels_config": {
    "python": {
     "delete_cmd_postfix": "",
     "delete_cmd_prefix": "del ",
     "library": "var_list.py",
     "varRefreshCmd": "print(var_dic_list())"
    },
    "r": {
     "delete_cmd_postfix": ") ",
     "delete_cmd_prefix": "rm(",
     "library": "var_list.r",
     "varRefreshCmd": "cat(var_dic_list()) "
    }
   },
   "position": {
    "height": "728px",
    "left": "1550px",
    "right": "20px",
    "top": "120px",
    "width": "350px"
   },
   "types_to_exclude": [
    "module",
    "function",
    "builtin_function_or_method",
    "instance",
    "_Feature"
   ],
   "window_display": false
  }
 },
 "nbformat": 4,
 "nbformat_minor": 2
}
