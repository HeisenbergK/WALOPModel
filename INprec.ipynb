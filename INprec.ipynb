{
 "cells": [
  {
   "cell_type": "code",
   "execution_count": 16,
   "metadata": {
    "ExecuteTime": {
     "end_time": "2018-08-06T08:55:04.182000Z",
     "start_time": "2018-08-06T08:55:04.175000Z"
    }
   },
   "outputs": [],
   "source": [
    "import nbimporter\n",
    "import numpy as np\n",
    "from model_calls import gaussian_psf, bright, mkfields\n",
    "from astropy.io import fits\n",
    "from struct import pack"
   ]
  },
  {
   "cell_type": "code",
   "execution_count": 17,
   "metadata": {
    "ExecuteTime": {
     "end_time": "2018-08-06T08:55:04.198000Z",
     "start_time": "2018-08-06T08:55:04.187000Z"
    }
   },
   "outputs": [],
   "source": [
    "field = 35.0/60.0     # field size in deg\n",
    "resol = 4.0*1024      # resolution of CCD\n",
    "fwhm = 1.5            # seeing fwhm in arcsec\n",
    "fields = 'set'        # 'set' to take my fields, number to use that many random fields\n",
    "resol = int(resol)    # integer pixels\n",
    "fwhm /= (60.0*60.0)   # seeing fwhm in deg\n",
    "sigma = fwhm/2.35482  # seeing std in deg\n",
    "filtername = 'J-R'    # prefix for the creation of files\n",
    "texp = 5.0*60.0       # exposure time in s\n",
    "dtel = 100.0          # telescope diameter in cm"
   ]
  },
  {
   "cell_type": "code",
   "execution_count": 18,
   "metadata": {
    "ExecuteTime": {
     "end_time": "2018-08-06T08:55:04.215000Z",
     "start_time": "2018-08-06T08:55:04.204000Z"
    }
   },
   "outputs": [],
   "source": [
    "prefix = filtername\n",
    "if filtername == 'J-R':\n",
    "    sfl = 0.278            # star flux in ph/s/cm^2\n",
    "    sbr = 0.00779          # sky brightness in ph/s/cm^2/arcsec^2\n",
    "elif filtername == 'sdss-r':\n",
    "    sfl = 0.225            # star flux in ph/s/cm^2\n",
    "    sbr = 0.00560          # sky brightness in ph/s/cm^2/arcsec^2\n",
    "elif filtername == 'sdss-r_skin':\n",
    "    sfl = 0.210            # star flux in ph/s/cm^2\n",
    "    sbr = 0.00514          # sky brightness in ph/s/cm^2/arcsec^2"
   ]
  },
  {
   "cell_type": "code",
   "execution_count": 19,
   "metadata": {
    "ExecuteTime": {
     "end_time": "2018-08-06T08:55:04.228000Z",
     "start_time": "2018-08-06T08:55:04.220000Z"
    }
   },
   "outputs": [],
   "source": [
    "if isinstance(fields, str):\n",
    "    imstd = \"INS\\\\\"+prefix+'_' + \\\n",
    "        str(resol)+'px_'+str(int(field*60))+\"'_set_positions\"\n",
    "else:\n",
    "    imstd = \"INS\\\\\"+prefix+'_' + \\\n",
    "        str(resol)+'px_'+str(int(field*60))+\"'_\"+str(fields)+'stars'"
   ]
  },
  {
   "cell_type": "code",
   "execution_count": 20,
   "metadata": {
    "ExecuteTime": {
     "end_time": "2018-08-06T08:55:04.240000Z",
     "start_time": "2018-08-06T08:55:04.234000Z"
    }
   },
   "outputs": [],
   "source": [
    "sbright, samp = bright(dtel=dtel, field=field, insky=sbr, instar=sfl,\n",
    "                       resol=resol, texp=texp)  # sky and star values in ph/px^2 and ph"
   ]
  },
  {
   "cell_type": "code",
   "execution_count": 21,
   "metadata": {
    "ExecuteTime": {
     "end_time": "2018-08-06T08:55:04.253000Z",
     "start_time": "2018-08-06T08:55:04.246000Z"
    }
   },
   "outputs": [],
   "source": [
    "posx, posy = mkfields(fields, field)  # x and y positions of the stars in deg"
   ]
  },
  {
   "cell_type": "code",
   "execution_count": 22,
   "metadata": {
    "ExecuteTime": {
     "end_time": "2018-08-06T08:55:04.397000Z",
     "start_time": "2018-08-06T08:55:04.260000Z"
    }
   },
   "outputs": [],
   "source": [
    "# the x,y coordinate system in resol bins but each x,y are measured in deg\n",
    "x, y = np.meshgrid(np.linspace(0, field, resol), np.linspace(0, field, resol))"
   ]
  },
  {
   "cell_type": "code",
   "execution_count": 23,
   "metadata": {
    "ExecuteTime": {
     "end_time": "2018-08-06T08:56:00.624000Z",
     "start_time": "2018-08-06T08:55:04.402000Z"
    }
   },
   "outputs": [
    {
     "name": "stdout",
     "output_type": "stream",
     "text": [
      "Star 1 of 13\n",
      "Star 2 of 13\n",
      "Star 3 of 13\n",
      "Star 4 of 13\n",
      "Star 5 of 13\n",
      "Star 6 of 13\n",
      "Star 7 of 13\n",
      "Star 8 of 13\n",
      "Star 9 of 13\n",
      "Star 10 of 13\n",
      "Star 11 of 13\n",
      "Star 12 of 13\n",
      "Star 13 of 13\n"
     ]
    }
   ],
   "source": [
    "shaper = x.shape                                           #\n",
    "clean = np.empty(shape=shaper)                             # an empty image\n",
    "#\n",
    "for i in range(0, len(posx)):                              #\n",
    "    # print the current star\n",
    "    print('Star %d of %d' % ((i+1), len(posx)))\n",
    "    # x position of the star in degrees\n",
    "    xcen = posx[i]\n",
    "    # y position of the star in degrees\n",
    "    ycen = posy[i]\n",
    "    # a gaussian scaled to have total photons as the input star placed in the correct xy position\n",
    "    curg = gaussian_psf(x, y, sigma, xcen, ycen, samp)\n",
    "    # add the caussian to the clean image\n",
    "    clean = np.add(clean, curg)\n",
    "    #\n",
    "# add the the sky ph/px^2 to each pixel\n",
    "pure = np.add(sbright, clean)"
   ]
  },
  {
   "cell_type": "code",
   "execution_count": 24,
   "metadata": {
    "ExecuteTime": {
     "end_time": "2018-08-06T08:56:00.844000Z",
     "start_time": "2018-08-06T08:56:00.664000Z"
    }
   },
   "outputs": [],
   "source": [
    "divisionima = np.amax(pure)\n",
    "imapure = np.multiply(np.divide(pure, divisionima), 255).astype(int)"
   ]
  },
  {
   "cell_type": "code",
   "execution_count": 25,
   "metadata": {
    "ExecuteTime": {
     "end_time": "2018-08-06T08:56:01.054000Z",
     "start_time": "2018-08-06T08:56:00.886000Z"
    }
   },
   "outputs": [],
   "source": [
    "divisionbim = np.sum(pure)\n",
    "bimpure = np.multiply(np.divide(pure, divisionbim), np.power(10.0, 9.0))"
   ]
  },
  {
   "cell_type": "code",
   "execution_count": 26,
   "metadata": {
    "ExecuteTime": {
     "end_time": "2018-08-06T08:56:02.431000Z",
     "start_time": "2018-08-06T08:56:01.094000Z"
    }
   },
   "outputs": [],
   "source": [
    "purehdu = fits.PrimaryHDU(pure)\n",
    "purehdu.writeto(imstd+\".fit\")"
   ]
  },
  {
   "cell_type": "code",
   "execution_count": 27,
   "metadata": {
    "ExecuteTime": {
     "end_time": "2018-08-06T08:56:11.133000Z",
     "start_time": "2018-08-06T08:56:02.439000Z"
    }
   },
   "outputs": [],
   "source": [
    "f = open(imstd+\".ima\", 'w')\n",
    "f.write(pack(\"h\", 0))\n",
    "f.write(pack(\"h\", resol))\n",
    "f.write(pack(\"h\", 1))\n",
    "for i in range(0, len(imapure)):\n",
    "    for j in range(0, len(imapure[i])):\n",
    "        f.write(chr(imapure[i][j]))\n",
    "f.close()"
   ]
  },
  {
   "cell_type": "code",
   "execution_count": 28,
   "metadata": {
    "ExecuteTime": {
     "end_time": "2018-08-06T08:56:20.464000Z",
     "start_time": "2018-08-06T08:56:11.156000Z"
    }
   },
   "outputs": [],
   "source": [
    "f = open(imstd+\".bim\", 'w')\n",
    "f.write(pack(\"l\", resol))\n",
    "f.write(pack(\"l\", resol))\n",
    "for i in range(0, len(bimpure)):\n",
    "    for j in range(0, len(bimpure[i])):\n",
    "        f.write(pack(\"d\", bimpure[i][j]))\n",
    "f.close()"
   ]
  },
  {
   "cell_type": "code",
   "execution_count": 30,
   "metadata": {
    "ExecuteTime": {
     "end_time": "2018-08-06T08:56:42.676000Z",
     "start_time": "2018-08-06T08:56:42.608000Z"
    }
   },
   "outputs": [],
   "source": [
    "f = open(imstd+\".unit\", 'w')\n",
    "totint = np.sum(pure)\n",
    "maxint = np.amax(pure)\n",
    "rayfix = np.sum(bimpure)\n",
    "rayint = divisionbim/rayfix\n",
    "f.write('Total Intensity (ph)\\tMaximum Intensity(ph)\\tRay Sum (ph)\\tRay Multiple\\n')\n",
    "f.write(str(totint)+'\\t\\t\\t'+str(maxint)+'\\t\\t\\t'+str(rayfix)+'\\t'+str(rayint))\n",
    "f.close()"
   ]
  },
  {
   "cell_type": "code",
   "execution_count": null,
   "metadata": {},
   "outputs": [],
   "source": []
  }
 ],
 "metadata": {
  "kernelspec": {
   "display_name": "Python 2",
   "language": "python",
   "name": "python2"
  },
  "language_info": {
   "codemirror_mode": {
    "name": "ipython",
    "version": 2
   },
   "file_extension": ".py",
   "mimetype": "text/x-python",
   "name": "python",
   "nbconvert_exporter": "python",
   "pygments_lexer": "ipython2",
   "version": "2.7.14"
  },
  "varInspector": {
   "cols": {
    "lenName": 16,
    "lenType": 16,
    "lenVar": 40
   },
   "kernels_config": {
    "python": {
     "delete_cmd_postfix": "",
     "delete_cmd_prefix": "del ",
     "library": "var_list.py",
     "varRefreshCmd": "print(var_dic_list())"
    },
    "r": {
     "delete_cmd_postfix": ") ",
     "delete_cmd_prefix": "rm(",
     "library": "var_list.r",
     "varRefreshCmd": "cat(var_dic_list()) "
    }
   },
   "types_to_exclude": [
    "module",
    "function",
    "builtin_function_or_method",
    "instance",
    "_Feature"
   ],
   "window_display": false
  }
 },
 "nbformat": 4,
 "nbformat_minor": 2
}
