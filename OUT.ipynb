{
 "cells": [
  {
   "cell_type": "code",
   "execution_count": 1,
   "metadata": {
    "ExecuteTime": {
     "end_time": "2018-08-30T10:24:49.174000Z",
     "start_time": "2018-08-30T10:24:48.209000Z"
    }
   },
   "outputs": [
    {
     "name": "stdout",
     "output_type": "stream",
     "text": [
      "Importing Jupyter notebook from model_calls.ipynb\n"
     ]
    }
   ],
   "source": [
    "import numpy as np\n",
    "from astropy.io import fits\n",
    "import nbimporter\n",
    "from model_calls import showim, mkbias, mkdark, mkrdns\n",
    "from os.path import splitext"
   ]
  },
  {
   "cell_type": "code",
   "execution_count": 7,
   "metadata": {
    "ExecuteTime": {
     "end_time": "2018-08-30T10:25:43.594000Z",
     "start_time": "2018-08-30T10:25:43.583000Z"
    }
   },
   "outputs": [],
   "source": [
    "texpo = 5.0*60.0  # exposure time in s\n",
    "mulmd = 0.5    # multiplier modifier due to zemax sequential artifacts\n",
    "nllvl = 1.0    # non-linearity level in percent\n",
    "darkl = 1.0      # dark current in e/px/hr\n",
    "queff = 0.90     # quantum efficiency in max-1\n",
    "ronoi = 4.0      # readout noise in e\n",
    "fwell = 350000  # full well capacity in e\n",
    "ampst = 7.0   # amplifier sensitivity in uV/e\n",
    "pxsiz = 15.0    # pixel size in um/px\n",
    "resol = 4096  # resolution in pixels\n",
    "ctrbt = 16  # controller bits\n",
    "nbias = 10  # number of bias frames to be saved\n",
    "ndark = 10  # number of dark frames to be saved\n",
    "shima = False  # whether to show image in plotly\n",
    "wpfit = False  # whether to write fits files of photons"
   ]
  },
  {
   "cell_type": "code",
   "execution_count": 8,
   "metadata": {
    "ExecuteTime": {
     "end_time": "2018-08-30T10:25:46.418000Z",
     "start_time": "2018-08-30T10:25:46.411000Z"
    }
   },
   "outputs": [],
   "source": [
    "filenm = 'TXT/sdss-r.txt'  # filename"
   ]
  },
  {
   "cell_type": "code",
   "execution_count": 9,
   "metadata": {
    "ExecuteTime": {
     "end_time": "2018-08-30T10:25:46.843000Z",
     "start_time": "2018-08-30T10:25:46.834000Z"
    }
   },
   "outputs": [],
   "source": [
    "maxv = fwell*ampst   # maximum amplifier voltage in uV\n",
    "minv = 0.0    # minimum amplifier voltage in uV\n",
    "maxc = (2**ctrbt)-1  # maximum counts\n",
    "vtcn = maxc/(maxv-minv)    # uV to counts conversion factor in ADU/uV"
   ]
  },
  {
   "cell_type": "code",
   "execution_count": 11,
   "metadata": {
    "ExecuteTime": {
     "end_time": "2018-08-30T10:26:56.527000Z",
     "start_time": "2018-08-30T10:26:56.518000Z"
    }
   },
   "outputs": [
    {
     "name": "stdout",
     "output_type": "stream",
     "text": [
      "Photon Multiplier: 58.20\n",
      "Zemax Correction: 0.50\n",
      "Total: 29.10\n"
     ]
    }
   ],
   "source": [
    "multiread = np.genfromtxt(\n",
    "    fname=(splitext(filenm)[0] + ('.unit')), dtype=float, skip_header=1)   # read the unit file's 2nd line\n",
    "multip = multiread[-1]    # last entry is the multiplier\n",
    "multip *= mulmd\n",
    "print('Photon Multiplier: %.2f\\nZemax Correction: %.2f\\nTotal: %.2f' %\n",
    "      (multiread[-1], mulmd, multip))"
   ]
  },
  {
   "cell_type": "code",
   "execution_count": 13,
   "metadata": {
    "ExecuteTime": {
     "end_time": "2018-08-30T10:28:26.763000Z",
     "start_time": "2018-08-30T10:28:11.694000Z"
    }
   },
   "outputs": [
    {
     "name": "stdout",
     "output_type": "stream",
     "text": [
      "Pixel Area mm:2.25e-04\n"
     ]
    }
   ],
   "source": [
    "# read file, image is now in photons unmultiplied\n",
    "image = np.genfromtxt(fname=filenm, dtype=float, skip_header=17)\n",
    "# multiply by the multiplier, image is now in ph/mm^2\n",
    "image = np.multiply(image, multip)\n",
    "# convert to ph/px^2\n",
    "image = np.multiply(image, np.power((pxsiz*0.001), 2.0))\n",
    "print('Pixel Area mm:%.2e' % np.power((pxsiz*0.001), 2.0))"
   ]
  },
  {
   "cell_type": "code",
   "execution_count": 7,
   "metadata": {
    "ExecuteTime": {
     "end_time": "2018-08-28T08:16:19.329000Z",
     "start_time": "2018-08-28T08:16:19.322000Z"
    }
   },
   "outputs": [],
   "source": [
    "if shima:\n",
    "    showim(image)  # show image in plotly"
   ]
  },
  {
   "cell_type": "code",
   "execution_count": 8,
   "metadata": {
    "ExecuteTime": {
     "end_time": "2018-08-28T08:16:20.859000Z",
     "start_time": "2018-08-28T08:16:19.334000Z"
    }
   },
   "outputs": [],
   "source": [
    "if wpfit:\n",
    "    hdu = fits.PrimaryHDU(image)   # make an HDU for the photon image\n",
    "    # write in the header that the image is in ph\n",
    "    hdu.header['UNIT'] = ('ph', 'Pixel intensity units')\n",
    "    hdu.writeto(splitext(filenm)[0] + ('_ph.fit'))   # write the fits"
   ]
  },
  {
   "cell_type": "code",
   "execution_count": 9,
   "metadata": {
    "ExecuteTime": {
     "end_time": "2018-08-28T08:16:31.722000Z",
     "start_time": "2018-08-28T08:16:20.863000Z"
    }
   },
   "outputs": [],
   "source": [
    "biaslist = []    # list to be filled with bias frames in ADU/px^2\n",
    "for i in range(0, nbias):\n",
    "    biaslist.append(mkbias(maxc, nllvl, resol))\n",
    "biasfr = mkbias(maxc=maxc, nllvl=nllvl, resol=resol)   # bias frame in ADU/px^2"
   ]
  },
  {
   "cell_type": "code",
   "execution_count": 10,
   "metadata": {
    "ExecuteTime": {
     "end_time": "2018-08-28T08:16:35.777000Z",
     "start_time": "2018-08-28T08:16:31.728000Z"
    }
   },
   "outputs": [],
   "source": [
    "darklist = []      # list to be filled with dark frames in e/px^2\n",
    "for i in range(0, ndark):\n",
    "    darklist.append(mkdark(darkl, texpo, resol))\n",
    "# dark frame in e/px^2\n",
    "darkfr = mkdark(darkl=darkl, texpo=texpo, resol=resol)"
   ]
  },
  {
   "cell_type": "code",
   "execution_count": 11,
   "metadata": {
    "ExecuteTime": {
     "end_time": "2018-08-28T08:16:37.017000Z",
     "start_time": "2018-08-28T08:16:35.780000Z"
    }
   },
   "outputs": [],
   "source": [
    "rnfrm = mkrdns(ronoi, resol)"
   ]
  },
  {
   "cell_type": "code",
   "execution_count": 12,
   "metadata": {
    "ExecuteTime": {
     "end_time": "2018-08-28T08:16:37.608000Z",
     "start_time": "2018-08-28T08:16:37.020000Z"
    }
   },
   "outputs": [],
   "source": [
    "eimage = np.multiply(image, queff)   # convert photons to electrons\n",
    "eimage = np.add(eimage, darkfr)     # add the dark frame\n",
    "eimage = np.add(eimage, rnfrm)      # add the readnoise\n",
    "\n",
    "# saturation at full well existence\n",
    "eimage[eimage > fwell] = fwell\n",
    "\n",
    "vimage = np.multiply(eimage, ampst)   # convert image to micro-volts/px^2\n",
    "\n",
    "aduimage = np.multiply(vimage, vtcn)   # convert image to ADU/px^2\n",
    "\n",
    "# counts rounded-up to the nearest integer\n",
    "aduimage = np.ceil(aduimage).astype(int)\n",
    "\n",
    "finim = np.add(aduimage, biasfr)  # add the bias frame"
   ]
  },
  {
   "cell_type": "code",
   "execution_count": 13,
   "metadata": {
    "ExecuteTime": {
     "end_time": "2018-08-28T08:16:43.605000Z",
     "start_time": "2018-08-28T08:16:37.614000Z"
    }
   },
   "outputs": [],
   "source": [
    "if wpfit:\n",
    "    for i in range(0, len(biaslist)):\n",
    "        hdu = fits.PrimaryHDU(biaslist[i])   # make an HDU for the bias image\n",
    "        hdu.header['IMAGETYP'] = ('BIAS')\n",
    "        hdu.writeto('Bias_'+str(i+1)+'.fit')   # write the fits"
   ]
  },
  {
   "cell_type": "code",
   "execution_count": 14,
   "metadata": {
    "ExecuteTime": {
     "end_time": "2018-08-28T08:16:49.696000Z",
     "start_time": "2018-08-28T08:16:43.609000Z"
    }
   },
   "outputs": [],
   "source": [
    "if wpfit:\n",
    "    for i in range(0, len(darklist)):\n",
    "        hdu = fits.PrimaryHDU(darklist[i])   # make an HDU for the dark image\n",
    "        hdu.header['IMAGETYP'] = ('DARK')\n",
    "        hdu.writeto('Dark_'+str(i+1)+'.fit')   # write the fits"
   ]
  },
  {
   "cell_type": "code",
   "execution_count": 15,
   "metadata": {
    "ExecuteTime": {
     "end_time": "2018-08-28T08:16:50.569000Z",
     "start_time": "2018-08-28T08:16:49.701000Z"
    }
   },
   "outputs": [],
   "source": [
    "if wpfit:\n",
    "    hdu = fits.PrimaryHDU(finim)   # make an HDU for the image\n",
    "    # write in the header that the image is in ADU\n",
    "    hdu.header['UNIT'] = ('ADU', 'Pixel intensity units')\n",
    "    hdu.writeto(splitext(filenm)[0] + ('.fit'))   # write the fits"
   ]
  }
 ],
 "metadata": {
  "kernelspec": {
   "display_name": "Python 2",
   "language": "python",
   "name": "python2"
  },
  "language_info": {
   "codemirror_mode": {
    "name": "ipython",
    "version": 2
   },
   "file_extension": ".py",
   "mimetype": "text/x-python",
   "name": "python",
   "nbconvert_exporter": "python",
   "pygments_lexer": "ipython2",
   "version": "2.7.14"
  },
  "varInspector": {
   "cols": {
    "lenName": 16,
    "lenType": 16,
    "lenVar": 40
   },
   "kernels_config": {
    "python": {
     "delete_cmd_postfix": "",
     "delete_cmd_prefix": "del ",
     "library": "var_list.py",
     "varRefreshCmd": "print(var_dic_list())"
    },
    "r": {
     "delete_cmd_postfix": ") ",
     "delete_cmd_prefix": "rm(",
     "library": "var_list.r",
     "varRefreshCmd": "cat(var_dic_list()) "
    }
   },
   "types_to_exclude": [
    "module",
    "function",
    "builtin_function_or_method",
    "instance",
    "_Feature"
   ],
   "window_display": false
  }
 },
 "nbformat": 4,
 "nbformat_minor": 2
}
