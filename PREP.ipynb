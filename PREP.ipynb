{
 "cells": [
  {
   "cell_type": "code",
   "execution_count": 19,
   "metadata": {
    "ExecuteTime": {
     "end_time": "2018-08-28T08:17:54.033000Z",
     "start_time": "2018-08-28T08:17:54.026000Z"
    }
   },
   "outputs": [],
   "source": [
    "from astropy.io import fits\n",
    "import numpy as np\n",
    "import nbimporter\n",
    "from model_calls import showim\n",
    "from os.path import splitext"
   ]
  },
  {
   "cell_type": "code",
   "execution_count": 20,
   "metadata": {
    "ExecuteTime": {
     "end_time": "2018-08-28T08:17:54.047000Z",
     "start_time": "2018-08-28T08:17:54.042000Z"
    }
   },
   "outputs": [],
   "source": [
    "numbias = 10\n",
    "workdir = 'TXT/sdss-r/'\n",
    "shima = False\n",
    "mainim = 'sdss-r.fit'"
   ]
  },
  {
   "cell_type": "code",
   "execution_count": 21,
   "metadata": {
    "ExecuteTime": {
     "end_time": "2018-08-28T08:17:54.062000Z",
     "start_time": "2018-08-28T08:17:54.053000Z"
    }
   },
   "outputs": [],
   "source": [
    "biaslist = []\n",
    "for i in range(0,numbias):\n",
    "    biaslist.append(workdir + 'Bias_'+str(i+1)+'.fit')"
   ]
  },
  {
   "cell_type": "code",
   "execution_count": 22,
   "metadata": {
    "ExecuteTime": {
     "end_time": "2018-08-28T08:17:54.139000Z",
     "start_time": "2018-08-28T08:17:54.069000Z"
    }
   },
   "outputs": [],
   "source": [
    "biasim = []\n",
    "for imagename in biaslist:\n",
    "    bhdu = fits.open(imagename)\n",
    "    biasim.append(bhdu[0].data)\n",
    "    bhdu.close()"
   ]
  },
  {
   "cell_type": "code",
   "execution_count": 23,
   "metadata": {
    "ExecuteTime": {
     "end_time": "2018-08-28T08:17:57.717000Z",
     "start_time": "2018-08-28T08:17:54.145000Z"
    }
   },
   "outputs": [],
   "source": [
    "biasmed = np.median(biasim, axis=0)"
   ]
  },
  {
   "cell_type": "code",
   "execution_count": 24,
   "metadata": {
    "ExecuteTime": {
     "end_time": "2018-08-28T08:17:57.727000Z",
     "start_time": "2018-08-28T08:17:57.721000Z"
    }
   },
   "outputs": [],
   "source": [
    "if shima:\n",
    "    showim(biasmed)"
   ]
  },
  {
   "cell_type": "code",
   "execution_count": 25,
   "metadata": {
    "ExecuteTime": {
     "end_time": "2018-08-28T08:17:59.172000Z",
     "start_time": "2018-08-28T08:17:57.734000Z"
    }
   },
   "outputs": [],
   "source": [
    "imhdu = fits.open(workdir+mainim)\n",
    "imhead = imhdu[0].header\n",
    "imdata = imhdu[0].data\n",
    "imdata = np.subtract(imdata, biasmed)\n",
    "imhead['HISTORY']='Bias Corrected'\n",
    "nhdu = fits.PrimaryHDU(imdata)\n",
    "nhdu.header = imhead\n",
    "nname = splitext(mainim)[0]\n",
    "nname+='_biascorrected.fit'\n",
    "nhdu.writeto(workdir+nname)"
   ]
  },
  {
   "cell_type": "code",
   "execution_count": null,
   "metadata": {},
   "outputs": [],
   "source": []
  }
 ],
 "metadata": {
  "kernelspec": {
   "display_name": "Python 2",
   "language": "python",
   "name": "python2"
  },
  "language_info": {
   "codemirror_mode": {
    "name": "ipython",
    "version": 2
   },
   "file_extension": ".py",
   "mimetype": "text/x-python",
   "name": "python",
   "nbconvert_exporter": "python",
   "pygments_lexer": "ipython2",
   "version": "2.7.14"
  },
  "varInspector": {
   "cols": {
    "lenName": 16,
    "lenType": 16,
    "lenVar": 40
   },
   "kernels_config": {
    "python": {
     "delete_cmd_postfix": "",
     "delete_cmd_prefix": "del ",
     "library": "var_list.py",
     "varRefreshCmd": "print(var_dic_list())"
    },
    "r": {
     "delete_cmd_postfix": ") ",
     "delete_cmd_prefix": "rm(",
     "library": "var_list.r",
     "varRefreshCmd": "cat(var_dic_list()) "
    }
   },
   "types_to_exclude": [
    "module",
    "function",
    "builtin_function_or_method",
    "instance",
    "_Feature"
   ],
   "window_display": false
  }
 },
 "nbformat": 4,
 "nbformat_minor": 2
}
