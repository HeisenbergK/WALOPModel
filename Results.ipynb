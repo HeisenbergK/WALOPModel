{
 "cells": [
  {
   "cell_type": "markdown",
   "metadata": {},
   "source": [
    "# Sky:\n",
    "## Skinakas sdss-r': 0.00514 $\\frac{ph}{s\\cdot{}cm^{2}\\cdot{}arcsec^{2}}$\n",
    "## CustomScientific sdss-r': 0.00560  $\\frac{ph}{s\\cdot{}cm^{2}\\cdot{}arcsec^{2}}$ = 1.7882469416e-14  $\\frac{erg}{s\\cdot{}cm^{2}\\cdot{}arcsec^{2}}$\n",
    "## Johnson-R: 0.00779 $\\frac{ph}{s\\cdot{}cm^{2}\\cdot{}arcsec^{2}}$ = 2.48757922769e-14  $\\frac{erg}{s\\cdot{}cm^{2}\\cdot{}arcsec^{2}}$"
   ]
  },
  {
   "cell_type": "markdown",
   "metadata": {},
   "source": [
    "# Star:\n",
    "## Skinakas sdss-r': 0.210 $\\frac{ph}{s\\cdot{}cm^{2}}$\n",
    "## CustomScientific sdss-r': 0.225 $\\frac{ph}{s\\cdot{}cm^{2}}$ = 7.1849207475e-13 $\\frac{erg}{s\\cdot{}cm^{2}}$\n",
    "## Johnson-R: 0.278 $\\frac{ph}{s\\cdot{}cm^{2}}$ = 8.8773687458e-13 $\\frac{erg}{s\\cdot{}cm^{2}}$"
   ]
  },
  {
   "cell_type": "code",
   "execution_count": null,
   "metadata": {},
   "outputs": [],
   "source": []
  }
 ],
 "metadata": {
  "kernelspec": {
   "display_name": "Python 2",
   "language": "python",
   "name": "python2"
  },
  "language_info": {
   "codemirror_mode": {
    "name": "ipython",
    "version": 2
   },
   "file_extension": ".py",
   "mimetype": "text/x-python",
   "name": "python",
   "nbconvert_exporter": "python",
   "pygments_lexer": "ipython2",
   "version": "2.7.14"
  },
  "varInspector": {
   "cols": {
    "lenName": 16,
    "lenType": 16,
    "lenVar": 40
   },
   "kernels_config": {
    "python": {
     "delete_cmd_postfix": "",
     "delete_cmd_prefix": "del ",
     "library": "var_list.py",
     "varRefreshCmd": "print(var_dic_list())"
    },
    "r": {
     "delete_cmd_postfix": ") ",
     "delete_cmd_prefix": "rm(",
     "library": "var_list.r",
     "varRefreshCmd": "cat(var_dic_list()) "
    }
   },
   "types_to_exclude": [
    "module",
    "function",
    "builtin_function_or_method",
    "instance",
    "_Feature"
   ],
   "window_display": false
  }
 },
 "nbformat": 4,
 "nbformat_minor": 2
}
