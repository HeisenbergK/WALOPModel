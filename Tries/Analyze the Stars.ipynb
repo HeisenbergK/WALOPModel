{
 "cells": [
  {
   "cell_type": "code",
   "execution_count": 37,
   "metadata": {},
   "outputs": [],
   "source": [
    "import numpy as np\n",
    "from astropy.table import Table, vstack\n",
    "from astropy.io import ascii\n",
    "import matplotlib.pyplot as plt"
   ]
  },
  {
   "cell_type": "code",
   "execution_count": 22,
   "metadata": {},
   "outputs": [],
   "source": [
    "folder = 'Stars/polar-cap-healpix4-centers/'\n",
    "starlists = ['besancon_l_110_b_60_1sqdeg_new.txt', 'besancon_l_135_b_80_1sqdeg_new.txt', 'besancon_l_160_b_60_1sqdeg_new.txt', 'besancon_l_200_b_60_1sqdeg_new.txt', 'besancon_l_20_b_60_1sqdeg_new.txt', 'besancon_l_225_b_80_1sqdeg_new.txt',\n",
    "             'besancon_l_250_b_60_1sqdeg_new.txt', 'besancon_l_290_b_60_1sqdeg_new.txt', 'besancon_l_315_b_80_1sqdeg_new.txt', 'besancon_l_340_b_60_1sqdeg_new.txt', 'besancon_l_45_b_80_1sqdeg_new.txt', 'besancon_l_70_b_60_1sqdeg_new.txt']"
   ]
  },
  {
   "cell_type": "code",
   "execution_count": 23,
   "metadata": {},
   "outputs": [],
   "source": [
    "customrdr = ascii.get_reader(Reader=ascii.Basic)\n",
    "customrdr.header.splitter.delimiter = ' '\n",
    "customrdr.data.splitter.delimiter = ' '\n",
    "customrdr.header.start_line = 89\n",
    "customrdr.data.start_line = 90\n",
    "customrdr.data.end_line = None\n",
    "mastertable = ascii.read(\n",
    "    (folder+starlists[0]), delimiter='\\s', comment='\\s*#', data_start=82)"
   ]
  },
  {
   "cell_type": "code",
   "execution_count": 24,
   "metadata": {},
   "outputs": [],
   "source": [
    "for i in range(1, len(starlists)):\n",
    "    subtable = ascii.read(\n",
    "        (folder+starlists[i]), delimiter='\\s', comment='\\s*#', data_start=82)\n",
    "    mastertable = vstack([mastertable, subtable])"
   ]
  },
  {
   "cell_type": "code",
   "execution_count": 25,
   "metadata": {},
   "outputs": [],
   "source": [
    "mastertable = mastertable['R', 'CL', 'Typ', 'Teff', 'Dist']"
   ]
  },
  {
   "cell_type": "code",
   "execution_count": 36,
   "metadata": {},
   "outputs": [],
   "source": [
    "mastertable = mastertable[np.where(np.logical_and(\n",
    "    mastertable['R'] >= 16.0, mastertable['R'] <= 16.5))]"
   ]
  },
  {
   "cell_type": "code",
   "execution_count": 51,
   "metadata": {},
   "outputs": [
    {
     "data": {
      "text/plain": [
       "5180.0"
      ]
     },
     "execution_count": 51,
     "metadata": {},
     "output_type": "execute_result"
    }
   ],
   "source": [
    "# plt.hist(mastertable['Teff'], bins=50)\n",
    "# plt.show()\n",
    "np.median(mastertable['Teff'])"
   ]
  },
  {
   "cell_type": "code",
   "execution_count": 52,
   "metadata": {},
   "outputs": [],
   "source": [
    "mastertable.write('Stars/startable.ecsv', format='ascii.ecsv')"
   ]
  },
  {
   "cell_type": "code",
   "execution_count": null,
   "metadata": {},
   "outputs": [],
   "source": []
  }
 ],
 "metadata": {
  "kernelspec": {
   "display_name": "Python 2",
   "language": "python",
   "name": "python2"
  },
  "language_info": {
   "codemirror_mode": {
    "name": "ipython",
    "version": 2
   },
   "file_extension": ".py",
   "mimetype": "text/x-python",
   "name": "python",
   "nbconvert_exporter": "python",
   "pygments_lexer": "ipython2",
   "version": "2.7.14"
  },
  "varInspector": {
   "cols": {
    "lenName": 16,
    "lenType": 16,
    "lenVar": 40
   },
   "kernels_config": {
    "python": {
     "delete_cmd_postfix": "",
     "delete_cmd_prefix": "del ",
     "library": "var_list.py",
     "varRefreshCmd": "print(var_dic_list())"
    },
    "r": {
     "delete_cmd_postfix": ") ",
     "delete_cmd_prefix": "rm(",
     "library": "var_list.r",
     "varRefreshCmd": "cat(var_dic_list()) "
    }
   },
   "types_to_exclude": [
    "module",
    "function",
    "builtin_function_or_method",
    "instance",
    "_Feature"
   ],
   "window_display": false
  }
 },
 "nbformat": 4,
 "nbformat_minor": 2
}
