{
 "cells": [
  {
   "cell_type": "code",
   "execution_count": 1,
   "metadata": {},
   "outputs": [],
   "source": [
    "from astropy.table import Table"
   ]
  },
  {
   "cell_type": "code",
   "execution_count": 2,
   "metadata": {},
   "outputs": [],
   "source": [
    "sr = Table.read('Filters/cs_sdss.csv', format='ascii.csv')"
   ]
  },
  {
   "cell_type": "code",
   "execution_count": 3,
   "metadata": {},
   "outputs": [
    {
     "data": {
      "text/html": [
       "&lt;Table length=1801&gt;\n",
       "<table id=\"table386527184\" class=\"table-striped table-bordered table-condensed\">\n",
       "<thead><tr><th>Wavelength (A)</th><th>Transmittance</th></tr></thead>\n",
       "<thead><tr><th>int32</th><th>float64</th></tr></thead>\n",
       "<tr><td>3000</td><td>2.6e-06</td></tr>\n",
       "<tr><td>3005</td><td>2.8e-06</td></tr>\n",
       "<tr><td>3010</td><td>2.51e-06</td></tr>\n",
       "<tr><td>3015</td><td>0.0</td></tr>\n",
       "<tr><td>3020</td><td>4.26e-07</td></tr>\n",
       "<tr><td>3025</td><td>1.06e-06</td></tr>\n",
       "<tr><td>3030</td><td>3.08e-06</td></tr>\n",
       "<tr><td>3035</td><td>0.0</td></tr>\n",
       "<tr><td>3040</td><td>0.0</td></tr>\n",
       "<tr><td>3045</td><td>7.53e-07</td></tr>\n",
       "<tr><td>...</td><td>...</td></tr>\n",
       "<tr><td>11955</td><td>5.7e-05</td></tr>\n",
       "<tr><td>11960</td><td>6.01e-05</td></tr>\n",
       "<tr><td>11965</td><td>6.39e-05</td></tr>\n",
       "<tr><td>11970</td><td>6.76e-05</td></tr>\n",
       "<tr><td>11975</td><td>7.22e-05</td></tr>\n",
       "<tr><td>11980</td><td>7.68e-05</td></tr>\n",
       "<tr><td>11985</td><td>8.21e-05</td></tr>\n",
       "<tr><td>11990</td><td>8.75e-05</td></tr>\n",
       "<tr><td>11995</td><td>9.37e-05</td></tr>\n",
       "<tr><td>12000</td><td>0.0001</td></tr>\n",
       "</table>"
      ],
      "text/plain": [
       "<Table length=1801>\n",
       "Wavelength (A) Transmittance\n",
       "    int32         float64   \n",
       "-------------- -------------\n",
       "          3000       2.6e-06\n",
       "          3005       2.8e-06\n",
       "          3010      2.51e-06\n",
       "          3015           0.0\n",
       "          3020      4.26e-07\n",
       "          3025      1.06e-06\n",
       "          3030      3.08e-06\n",
       "          3035           0.0\n",
       "          3040           0.0\n",
       "          3045      7.53e-07\n",
       "           ...           ...\n",
       "         11955       5.7e-05\n",
       "         11960      6.01e-05\n",
       "         11965      6.39e-05\n",
       "         11970      6.76e-05\n",
       "         11975      7.22e-05\n",
       "         11980      7.68e-05\n",
       "         11985      8.21e-05\n",
       "         11990      8.75e-05\n",
       "         11995      9.37e-05\n",
       "         12000        0.0001"
      ]
     },
     "execution_count": 3,
     "metadata": {},
     "output_type": "execute_result"
    }
   ],
   "source": [
    "sr"
   ]
  },
  {
   "cell_type": "code",
   "execution_count": 4,
   "metadata": {},
   "outputs": [],
   "source": [
    "sr.write('Filters/cs_sdss.ecsv', format='ascii.ecsv')"
   ]
  },
  {
   "cell_type": "code",
   "execution_count": null,
   "metadata": {},
   "outputs": [],
   "source": []
  }
 ],
 "metadata": {
  "kernelspec": {
   "display_name": "Python 2",
   "language": "python",
   "name": "python2"
  },
  "language_info": {
   "codemirror_mode": {
    "name": "ipython",
    "version": 2
   },
   "file_extension": ".py",
   "mimetype": "text/x-python",
   "name": "python",
   "nbconvert_exporter": "python",
   "pygments_lexer": "ipython2",
   "version": "2.7.14"
  },
  "varInspector": {
   "cols": {
    "lenName": 16,
    "lenType": 16,
    "lenVar": 40
   },
   "kernels_config": {
    "python": {
     "delete_cmd_postfix": "",
     "delete_cmd_prefix": "del ",
     "library": "var_list.py",
     "varRefreshCmd": "print(var_dic_list())"
    },
    "r": {
     "delete_cmd_postfix": ") ",
     "delete_cmd_prefix": "rm(",
     "library": "var_list.r",
     "varRefreshCmd": "cat(var_dic_list()) "
    }
   },
   "types_to_exclude": [
    "module",
    "function",
    "builtin_function_or_method",
    "instance",
    "_Feature"
   ],
   "window_display": false
  }
 },
 "nbformat": 4,
 "nbformat_minor": 2
}
